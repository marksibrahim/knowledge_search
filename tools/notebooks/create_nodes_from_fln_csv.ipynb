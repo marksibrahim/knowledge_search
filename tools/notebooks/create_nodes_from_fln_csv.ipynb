{
 "cells": [
  {
   "cell_type": "code",
   "execution_count": 1,
   "metadata": {
    "collapsed": true
   },
   "outputs": [],
   "source": [
    "import pandas as pd"
   ]
  },
  {
   "cell_type": "code",
   "execution_count": 3,
   "metadata": {
    "collapsed": false
   },
   "outputs": [],
   "source": [
    "fln_df = pd.read_csv(\"/Users/mark/Desktop/temp_data/fln.csv\", encoding='utf-8')"
   ]
  },
  {
   "cell_type": "code",
   "execution_count": 4,
   "metadata": {
    "collapsed": false
   },
   "outputs": [
    {
     "data": {
      "text/html": [
       "<div>\n",
       "<table border=\"1\" class=\"dataframe\">\n",
       "  <thead>\n",
       "    <tr style=\"text-align: right;\">\n",
       "      <th></th>\n",
       "      <th>:START_ID(Article)</th>\n",
       "      <th>:END_ID(Article)</th>\n",
       "    </tr>\n",
       "  </thead>\n",
       "  <tbody>\n",
       "    <tr>\n",
       "      <th>0</th>\n",
       "      <td>AccessibleComputing</td>\n",
       "      <td>Computer accessibility</td>\n",
       "    </tr>\n",
       "    <tr>\n",
       "      <th>1</th>\n",
       "      <td>Anarchism</td>\n",
       "      <td>political philosophy</td>\n",
       "    </tr>\n",
       "    <tr>\n",
       "      <th>2</th>\n",
       "      <td>AfghanistanHistory</td>\n",
       "      <td>History of Afghanistan</td>\n",
       "    </tr>\n",
       "    <tr>\n",
       "      <th>3</th>\n",
       "      <td>AfghanistanGeography</td>\n",
       "      <td>Geography of Afghanistan</td>\n",
       "    </tr>\n",
       "    <tr>\n",
       "      <th>4</th>\n",
       "      <td>AfghanistanPeople</td>\n",
       "      <td>Demographics of Afghanistan</td>\n",
       "    </tr>\n",
       "  </tbody>\n",
       "</table>\n",
       "</div>"
      ],
      "text/plain": [
       "     :START_ID(Article)             :END_ID(Article)\n",
       "0   AccessibleComputing       Computer accessibility\n",
       "1             Anarchism         political philosophy\n",
       "2    AfghanistanHistory       History of Afghanistan\n",
       "3  AfghanistanGeography     Geography of Afghanistan\n",
       "4     AfghanistanPeople  Demographics of Afghanistan"
      ]
     },
     "execution_count": 4,
     "metadata": {},
     "output_type": "execute_result"
    }
   ],
   "source": [
    "fln_df.head()"
   ]
  },
  {
   "cell_type": "code",
   "execution_count": 36,
   "metadata": {
    "collapsed": false
   },
   "outputs": [],
   "source": [
    "fln_df = fln_df.drop_duplicates(\":START_ID(Article)\")\n",
    "fln_df = fln_df.dropna()"
   ]
  },
  {
   "cell_type": "code",
   "execution_count": 37,
   "metadata": {
    "collapsed": false
   },
   "outputs": [
    {
     "data": {
      "text/html": [
       "<div>\n",
       "<table border=\"1\" class=\"dataframe\">\n",
       "  <thead>\n",
       "    <tr style=\"text-align: right;\">\n",
       "      <th></th>\n",
       "      <th>:START_ID(Article)</th>\n",
       "      <th>:END_ID(Article)</th>\n",
       "    </tr>\n",
       "  </thead>\n",
       "  <tbody>\n",
       "    <tr>\n",
       "      <th>0</th>\n",
       "      <td>AccessibleComputing</td>\n",
       "      <td>Computer accessibility</td>\n",
       "    </tr>\n",
       "    <tr>\n",
       "      <th>1</th>\n",
       "      <td>Anarchism</td>\n",
       "      <td>political philosophy</td>\n",
       "    </tr>\n",
       "    <tr>\n",
       "      <th>2</th>\n",
       "      <td>AfghanistanHistory</td>\n",
       "      <td>History of Afghanistan</td>\n",
       "    </tr>\n",
       "    <tr>\n",
       "      <th>3</th>\n",
       "      <td>AfghanistanGeography</td>\n",
       "      <td>Geography of Afghanistan</td>\n",
       "    </tr>\n",
       "    <tr>\n",
       "      <th>4</th>\n",
       "      <td>AfghanistanPeople</td>\n",
       "      <td>Demographics of Afghanistan</td>\n",
       "    </tr>\n",
       "  </tbody>\n",
       "</table>\n",
       "</div>"
      ],
      "text/plain": [
       "     :START_ID(Article)             :END_ID(Article)\n",
       "0   AccessibleComputing       Computer accessibility\n",
       "1             Anarchism         political philosophy\n",
       "2    AfghanistanHistory       History of Afghanistan\n",
       "3  AfghanistanGeography     Geography of Afghanistan\n",
       "4     AfghanistanPeople  Demographics of Afghanistan"
      ]
     },
     "execution_count": 37,
     "metadata": {},
     "output_type": "execute_result"
    }
   ],
   "source": [
    "fln_df.head()"
   ]
  },
  {
   "cell_type": "code",
   "execution_count": 38,
   "metadata": {
    "collapsed": false
   },
   "outputs": [],
   "source": [
    "fln_df.to_csv(\"/Users/mark/Desktop/temp_data/fln.csv\", encoding='utf-8',\n",
    "                                                    index=False, chunksize=100000, header=True)"
   ]
  },
  {
   "cell_type": "code",
   "execution_count": 39,
   "metadata": {
    "collapsed": true
   },
   "outputs": [],
   "source": [
    "fln_series = fln_df[':START_ID(Article)'].append(fln_df[\":END_ID(Article)\"]).drop_duplicates()"
   ]
  },
  {
   "cell_type": "code",
   "execution_count": 26,
   "metadata": {
    "collapsed": false
   },
   "outputs": [],
   "source": [
    "fln_series = fln_df[':START_ID(Article)']\n",
    "fln_series = fln_series.drop_duplicates()"
   ]
  },
  {
   "cell_type": "code",
   "execution_count": 40,
   "metadata": {
    "collapsed": false
   },
   "outputs": [],
   "source": [
    "fln_series.name = \"title:ID(Article)\"\n",
    "fln_series.to_csv(\"/Users/mark/Desktop/temp_data/fln_series.csv\", encoding='utf-8', index=False, header=True)"
   ]
  },
  {
   "cell_type": "code",
   "execution_count": null,
   "metadata": {
    "collapsed": true
   },
   "outputs": [],
   "source": []
  }
 ],
 "metadata": {
  "kernelspec": {
   "display_name": "Python 2",
   "language": "python",
   "name": "python2"
  },
  "language_info": {
   "codemirror_mode": {
    "name": "ipython",
    "version": 2
   },
   "file_extension": ".py",
   "mimetype": "text/x-python",
   "name": "python",
   "nbconvert_exporter": "python",
   "pygments_lexer": "ipython2",
   "version": "2.7.11"
  }
 },
 "nbformat": 4,
 "nbformat_minor": 0
}
