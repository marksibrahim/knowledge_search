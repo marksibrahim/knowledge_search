{
 "cells": [
  {
   "cell_type": "code",
   "execution_count": 9,
   "metadata": {
    "collapsed": true
   },
   "outputs": [],
   "source": [
    "import datetime\n",
    "import csv\n",
    "\n",
    "from mwviews.api import PageviewsClient\n",
    "\n",
    "# uses parallelism to for large calls\n",
    "p = PageviewsClient(100)\n",
    "\n",
    "\n",
    "# get current month\n",
    "now = datetime.datetime.now()\n",
    "\n",
    "date_string = str(now.year) + now.strftime('%m') + \"0101\"\n",
    "\n",
    "\n",
    "def get_views(article_list):\n",
    "    raw_views= p.article_views('en.wikipedia', article_list, granularity='monthly',\n",
    "        start=date_string, end=date_string)\n",
    "    for views in raw_views.itervalues():\n",
    "        return views.items()\n",
    "\n",
    "def append_views(views_list):\n",
    "    \"\"\"\n",
    "    appends views data to csv\n",
    "    \"\"\"\n",
    "    with open('some.csv', 'a') as f:\n",
    "        writer = csv.writer(f)\n",
    "        writer.writerows(views_list)"
   ]
  },
  {
   "cell_type": "markdown",
   "metadata": {},
   "source": [
    "## Combine Available Files using Pandas\n",
    "\n",
    "data:\n",
    "https://dumps.wikimedia.org/other/pagecounts-raw/2016/2016-05/pagecounts-20160501-000000.gz\n",
    "\n",
    "https://dumps.wikimedia.org/other/pagecounts-all-sites/2016/2016-01/"
   ]
  },
  {
   "cell_type": "code",
   "execution_count": 21,
   "metadata": {
    "collapsed": true
   },
   "outputs": [],
   "source": [
    "import pandas as pd\n",
    "import requests\n",
    "import zipfile, StringIO"
   ]
  },
  {
   "cell_type": "code",
   "execution_count": 20,
   "metadata": {
    "collapsed": false
   },
   "outputs": [],
   "source": [
    "zipped_views = requests.get(\"https://dumps.wikimedia.org/other/pagecounts-all-sites/2016/2016-05/pagecounts-20160501-000000.gz\").content"
   ]
  },
  {
   "cell_type": "code",
   "execution_count": 28,
   "metadata": {
    "collapsed": false
   },
   "outputs": [
    {
     "data": {
      "text/plain": [
       "('20160501-0.gz', <httplib.HTTPMessage instance at 0x10fde75f0>)"
      ]
     },
     "execution_count": 28,
     "metadata": {},
     "output_type": "execute_result"
    }
   ],
   "source": [
    "import urllib\n",
    "\n",
    "testfile = urllib.URLopener()\n",
    "testfile.retrieve(\"https://dumps.wikimedia.org/other/pagecounts-all-sites/2016/2016-05/pagecounts-20160501-000000.gz\",\n",
    "                  \"20160501-0.gz\")"
   ]
  },
  {
   "cell_type": "code",
   "execution_count": 30,
   "metadata": {
    "collapsed": false
   },
   "outputs": [
    {
     "name": "stdout",
     "output_type": "stream",
     "text": [
      "20160501-0.gz             benchmark_streaming.ipynb get_first_link.pyc\r\n",
      "__init__.py               build_reverse_fln.py      get_monthly_views.py\r\n",
      "__init__.pyc              build_views_data.ipynb    some.csv\r\n",
      "\u001b[34m__pycache__\u001b[m\u001b[m               get_first_link.py\r\n"
     ]
    }
   ],
   "source": [
    "! ls"
   ]
  },
  {
   "cell_type": "code",
   "execution_count": 36,
   "metadata": {
    "collapsed": false
   },
   "outputs": [],
   "source": [
    "df = pd.read_csv(\"20160501-0.gz\", compression=\"gzip\", sep=\" \", \n",
    "                 error_bad_lines=False, header=None)\n",
    "df.columns = ['project', 'article', 'views', 'content_returned']"
   ]
  },
  {
   "cell_type": "code",
   "execution_count": 39,
   "metadata": {
    "collapsed": false
   },
   "outputs": [
    {
     "data": {
      "text/html": [
       "<div>\n",
       "<table border=\"1\" class=\"dataframe\">\n",
       "  <thead>\n",
       "    <tr style=\"text-align: right;\">\n",
       "      <th></th>\n",
       "      <th>project</th>\n",
       "      <th>article</th>\n",
       "      <th>views</th>\n",
       "      <th>content_returned</th>\n",
       "    </tr>\n",
       "  </thead>\n",
       "  <tbody>\n",
       "    <tr>\n",
       "      <th>0</th>\n",
       "      <td>aa</td>\n",
       "      <td>Category:Language_user_templates</td>\n",
       "      <td>1</td>\n",
       "      <td>6020</td>\n",
       "    </tr>\n",
       "    <tr>\n",
       "      <th>1</th>\n",
       "      <td>aa</td>\n",
       "      <td>File:Hitchhicking_on_the_road_132_-_Gasp%C3%A9...</td>\n",
       "      <td>1</td>\n",
       "      <td>8520</td>\n",
       "    </tr>\n",
       "    <tr>\n",
       "      <th>2</th>\n",
       "      <td>aa</td>\n",
       "      <td>File:Mortgage_Loan_graphs.jpg</td>\n",
       "      <td>1</td>\n",
       "      <td>8397</td>\n",
       "    </tr>\n",
       "    <tr>\n",
       "      <th>3</th>\n",
       "      <td>aa</td>\n",
       "      <td>File:Wikimedia_Community_Logo.svg</td>\n",
       "      <td>1</td>\n",
       "      <td>8993</td>\n",
       "    </tr>\n",
       "    <tr>\n",
       "      <th>4</th>\n",
       "      <td>aa</td>\n",
       "      <td>File:Www.wattpad.com/user/withdsufbasupufi_Loa...</td>\n",
       "      <td>1</td>\n",
       "      <td>4724</td>\n",
       "    </tr>\n",
       "  </tbody>\n",
       "</table>\n",
       "</div>"
      ],
      "text/plain": [
       "  project                                            article  views  \\\n",
       "0      aa                   Category:Language_user_templates      1   \n",
       "1      aa  File:Hitchhicking_on_the_road_132_-_Gasp%C3%A9...      1   \n",
       "2      aa                      File:Mortgage_Loan_graphs.jpg      1   \n",
       "3      aa                  File:Wikimedia_Community_Logo.svg      1   \n",
       "4      aa  File:Www.wattpad.com/user/withdsufbasupufi_Loa...      1   \n",
       "\n",
       "   content_returned  \n",
       "0              6020  \n",
       "1              8520  \n",
       "2              8397  \n",
       "3              8993  \n",
       "4              4724  "
      ]
     },
     "execution_count": 39,
     "metadata": {},
     "output_type": "execute_result"
    }
   ],
   "source": [
    "df.head()"
   ]
  },
  {
   "cell_type": "code",
   "execution_count": 42,
   "metadata": {
    "collapsed": false
   },
   "outputs": [
    {
     "data": {
      "text/html": [
       "<div>\n",
       "<table border=\"1\" class=\"dataframe\">\n",
       "  <thead>\n",
       "    <tr style=\"text-align: right;\">\n",
       "      <th></th>\n",
       "      <th>project</th>\n",
       "      <th>article</th>\n",
       "      <th>views</th>\n",
       "      <th>content_returned</th>\n",
       "    </tr>\n",
       "  </thead>\n",
       "  <tbody>\n",
       "    <tr>\n",
       "      <th>0</th>\n",
       "      <td>aa</td>\n",
       "      <td>Category:Language_user_templates</td>\n",
       "      <td>1</td>\n",
       "      <td>6020</td>\n",
       "    </tr>\n",
       "    <tr>\n",
       "      <th>1</th>\n",
       "      <td>aa</td>\n",
       "      <td>File:Hitchhicking_on_the_road_132_-_Gasp%C3%A9...</td>\n",
       "      <td>1</td>\n",
       "      <td>8520</td>\n",
       "    </tr>\n",
       "    <tr>\n",
       "      <th>2</th>\n",
       "      <td>aa</td>\n",
       "      <td>File:Mortgage_Loan_graphs.jpg</td>\n",
       "      <td>1</td>\n",
       "      <td>8397</td>\n",
       "    </tr>\n",
       "    <tr>\n",
       "      <th>3</th>\n",
       "      <td>aa</td>\n",
       "      <td>File:Wikimedia_Community_Logo.svg</td>\n",
       "      <td>1</td>\n",
       "      <td>8993</td>\n",
       "    </tr>\n",
       "    <tr>\n",
       "      <th>4</th>\n",
       "      <td>aa</td>\n",
       "      <td>File:Www.wattpad.com/user/withdsufbasupufi_Loa...</td>\n",
       "      <td>1</td>\n",
       "      <td>4724</td>\n",
       "    </tr>\n",
       "  </tbody>\n",
       "</table>\n",
       "</div>"
      ],
      "text/plain": [
       "  project                                            article  views  \\\n",
       "0      aa                   Category:Language_user_templates      1   \n",
       "1      aa  File:Hitchhicking_on_the_road_132_-_Gasp%C3%A9...      1   \n",
       "2      aa                      File:Mortgage_Loan_graphs.jpg      1   \n",
       "3      aa                  File:Wikimedia_Community_Logo.svg      1   \n",
       "4      aa  File:Www.wattpad.com/user/withdsufbasupufi_Loa...      1   \n",
       "\n",
       "   content_returned  \n",
       "0              6020  \n",
       "1              8520  \n",
       "2              8397  \n",
       "3              8993  \n",
       "4              4724  "
      ]
     },
     "execution_count": 42,
     "metadata": {},
     "output_type": "execute_result"
    }
   ],
   "source": [
    "df.head()"
   ]
  },
  {
   "cell_type": "code",
   "execution_count": null,
   "metadata": {
    "collapsed": true
   },
   "outputs": [],
   "source": [
    "def build_df(year, month, day, hour):\n",
    "    \"\"\"\n",
    "    returns a pandas dataframe with columns:\n",
    "        project, article, views, content_returned\n",
    "    based on input date string:\n",
    "        e.g, \"2016\", \"06\", \"24\", \"01\"\n",
    "    files are found at\n",
    "        https://dumps.wikimedia.org/other/pagecounts-all-sites/2016/2016-05/pagecounts-20160501-000000.gz\n",
    "    \"\"\"\n",
    "    base_url_string = \"https://dumps.wikimedia.org/other/pagecounts-all-sites/\"\n",
    "    url_string = base_url_string + \"/\" + year + \"/\" + year + \"-\" + month\n",
    "    url_string += \"/pagecounts-\" + year + month + day + \"-\" + hour + \"0000.gz\"\n",
    "    \n",
    "    file_name = year + month + day + \"-\" + hour + \".gz\"\n",
    "    \n",
    "    # download file\n",
    "    opener = urllib.URLopener()    \n",
    "    opener.retrieve(url_string, file_name)\n",
    "    \n",
    "\n",
    "    # return data frame\n",
    "    df = pd.read_csv(file_name, compression=\"gzip\", sep=\" \", \n",
    "                 error_bad_lines=False, header=None)\n",
    "    df.columns = ['project', 'article', 'views', 'content_returned']\n",
    "    # include only en-wiki\n",
    "    df = df[df['project'] == 'en']\n",
    "    \n",
    "    \n",
    "    return df"
   ]
  },
  {
   "cell_type": "code",
   "execution_count": 44,
   "metadata": {
    "collapsed": true
   },
   "outputs": [],
   "source": [
    "df2 = build_df(\"2016\", \"06\", \"02\", \"01\")"
   ]
  },
  {
   "cell_type": "code",
   "execution_count": 45,
   "metadata": {
    "collapsed": false
   },
   "outputs": [
    {
     "data": {
      "text/html": [
       "<div>\n",
       "<table border=\"1\" class=\"dataframe\">\n",
       "  <thead>\n",
       "    <tr style=\"text-align: right;\">\n",
       "      <th></th>\n",
       "      <th>project</th>\n",
       "      <th>article</th>\n",
       "      <th>views</th>\n",
       "      <th>content_returned</th>\n",
       "    </tr>\n",
       "  </thead>\n",
       "  <tbody>\n",
       "    <tr>\n",
       "      <th>0</th>\n",
       "      <td>aa</td>\n",
       "      <td>File:Cash_payment_timeline_on_foreclosures.jpg</td>\n",
       "      <td>1</td>\n",
       "      <td>8505</td>\n",
       "    </tr>\n",
       "    <tr>\n",
       "      <th>1</th>\n",
       "      <td>aa</td>\n",
       "      <td>Main_Page</td>\n",
       "      <td>1</td>\n",
       "      <td>21579</td>\n",
       "    </tr>\n",
       "    <tr>\n",
       "      <th>2</th>\n",
       "      <td>aa</td>\n",
       "      <td>Main_Page/</td>\n",
       "      <td>1</td>\n",
       "      <td>14025</td>\n",
       "    </tr>\n",
       "    <tr>\n",
       "      <th>3</th>\n",
       "      <td>aa</td>\n",
       "      <td>User_talk:Alvaronicol%C3%A1s</td>\n",
       "      <td>1</td>\n",
       "      <td>4735</td>\n",
       "    </tr>\n",
       "    <tr>\n",
       "      <th>4</th>\n",
       "      <td>aa</td>\n",
       "      <td>User_talk:Andreas_S.</td>\n",
       "      <td>1</td>\n",
       "      <td>4729</td>\n",
       "    </tr>\n",
       "  </tbody>\n",
       "</table>\n",
       "</div>"
      ],
      "text/plain": [
       "  project                                         article  views  \\\n",
       "0      aa  File:Cash_payment_timeline_on_foreclosures.jpg      1   \n",
       "1      aa                                       Main_Page      1   \n",
       "2      aa                                      Main_Page/      1   \n",
       "3      aa                    User_talk:Alvaronicol%C3%A1s      1   \n",
       "4      aa                            User_talk:Andreas_S.      1   \n",
       "\n",
       "   content_returned  \n",
       "0              8505  \n",
       "1             21579  \n",
       "2             14025  \n",
       "3              4735  \n",
       "4              4729  "
      ]
     },
     "execution_count": 45,
     "metadata": {},
     "output_type": "execute_result"
    }
   ],
   "source": [
    "df2.head()"
   ]
  },
  {
   "cell_type": "code",
   "execution_count": null,
   "metadata": {
    "collapsed": true
   },
   "outputs": [],
   "source": [
    "df.merge(df2, left_on='article', right_on='article', how='outer')"
   ]
  },
  {
   "cell_type": "code",
   "execution_count": null,
   "metadata": {
    "collapsed": true
   },
   "outputs": [],
   "source": []
  }
 ],
 "metadata": {
  "kernelspec": {
   "display_name": "Python 2",
   "language": "python",
   "name": "python2"
  },
  "language_info": {
   "codemirror_mode": {
    "name": "ipython",
    "version": 2
   },
   "file_extension": ".py",
   "mimetype": "text/x-python",
   "name": "python",
   "nbconvert_exporter": "python",
   "pygments_lexer": "ipython2",
   "version": "2.7.11"
  }
 },
 "nbformat": 4,
 "nbformat_minor": 0
}
