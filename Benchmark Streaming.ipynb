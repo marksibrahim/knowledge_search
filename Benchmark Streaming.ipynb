{
 "cells": [
  {
   "cell_type": "code",
   "execution_count": 1,
   "metadata": {
    "collapsed": true
   },
   "outputs": [],
   "source": [
    "import xml.etree.ElementTree as ET"
   ]
  },
  {
   "cell_type": "code",
   "execution_count": 5,
   "metadata": {
    "collapsed": true
   },
   "outputs": [],
   "source": [
    "import get_first_link"
   ]
  },
  {
   "cell_type": "code",
   "execution_count": 2,
   "metadata": {
    "collapsed": true
   },
   "outputs": [],
   "source": [
    "data_path = \"sample_data/sample_dump.xml\""
   ]
  },
  {
   "cell_type": "code",
   "execution_count": 30,
   "metadata": {
    "collapsed": true
   },
   "outputs": [],
   "source": []
  },
  {
   "cell_type": "code",
   "execution_count": 34,
   "metadata": {
    "collapsed": true
   },
   "outputs": [],
   "source": [
    "def get_title(elem):\n",
    "    \"\"\"return title after checking\"\"\"\n",
    "    #validate title\n",
    "    if get_first_link.check_link(elem.text):\n",
    "        try: \n",
    "            title = elem.text\n",
    "        except:\n",
    "            title = \"\"\n",
    "    else: \n",
    "        title = \"\"\n",
    "    return title\n",
    "\n",
    "def get_fl(elem):\n",
    "    \"\"\"validate, return first link\"\"\"\n",
    "    try:\n",
    "        fl = get_first_link.run_parser(elem.text)\n",
    "    except:\n",
    "        fl = \"\"\n",
    "    return fl"
   ]
  },
  {
   "cell_type": "code",
   "execution_count": 41,
   "metadata": {
    "collapsed": true
   },
   "outputs": [],
   "source": [
    "def process_xml(tree):\n",
    "    \"\"\"goes through each page in xml\n",
    "    returns dictionary: title -> first link\"\"\"\n",
    "    \n",
    "    #initialize vars\n",
    "    fldict = {}\n",
    "    p = 0\n",
    "    title = \"\"\n",
    "    fl = \"\"\n",
    "\n",
    "    \n",
    "    for action, elem in tree:\n",
    "        \n",
    "        if elem.tag[-4:] == \"page\":\n",
    "            #count\n",
    "            p += 1\n",
    "            #if p > 1000: break\n",
    "            print(p, end=\"\\r\")\n",
    "            \n",
    "            #write\n",
    "            if title and fl:\n",
    "                fldict[title] = fl\n",
    "            \n",
    "            #reset\n",
    "            title = \"\"\n",
    "            fl = \"\"\n",
    "            \n",
    "        if elem.tag[-5:] == \"title\":\n",
    "            title = get_title(elem)\n",
    "        \n",
    "        if elem.tag[-4:] == \"text\" and title:\n",
    "            fl = get_fl(elem)\n",
    "\n",
    "        elem.clear()    \n",
    "    return fldict"
   ]
  },
  {
   "cell_type": "code",
   "execution_count": 44,
   "metadata": {
    "collapsed": false
   },
   "outputs": [
    {
     "name": "stdout",
     "output_type": "stream",
     "text": [
      "1 loops, best of 3: 5.51 s per loop\n"
     ]
    }
   ],
   "source": [
    "%%timeit\n",
    "total_tree = ET.iterparse(data_path)\n",
    "tree = iter(total_tree)\n",
    "fln_sample = process_xml(tree)"
   ]
  },
  {
   "cell_type": "code",
   "execution_count": 47,
   "metadata": {
    "collapsed": false
   },
   "outputs": [
    {
     "name": "stdout",
     "output_type": "stream",
     "text": [
      "articles processed per second:  53.901996370235935\n"
     ]
    }
   ],
   "source": [
    "print(\"articles processed per second: \", len(fln_sample) / 5.51)"
   ]
  },
  {
   "cell_type": "code",
   "execution_count": 50,
   "metadata": {
    "collapsed": false
   },
   "outputs": [
    {
     "name": "stdout",
     "output_type": "stream",
     "text": [
      "total processing time required in hours  56.584362139917694\n"
     ]
    }
   ],
   "source": [
    "print(\"total processing time required in hours \", 11000000/(54*60*60))"
   ]
  },
  {
   "cell_type": "code",
   "execution_count": null,
   "metadata": {
    "collapsed": true
   },
   "outputs": [],
   "source": []
  }
 ],
 "metadata": {
  "kernelspec": {
   "display_name": "Python 3",
   "language": "python",
   "name": "python3"
  },
  "language_info": {
   "codemirror_mode": {
    "name": "ipython",
    "version": 3
   },
   "file_extension": ".py",
   "mimetype": "text/x-python",
   "name": "python",
   "nbconvert_exporter": "python",
   "pygments_lexer": "ipython3",
   "version": "3.5.1"
  }
 },
 "nbformat": 4,
 "nbformat_minor": 0
}
